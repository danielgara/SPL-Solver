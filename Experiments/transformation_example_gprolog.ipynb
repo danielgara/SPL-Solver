{
 "cells": [
  {
   "cell_type": "code",
   "execution_count": 1,
   "metadata": {},
   "outputs": [],
   "source": [
    "from lxml import etree\n",
    "from lxml.builder import E\n",
    "\n",
    "mx_graph_tree = etree.parse('./Example Files/mxgraph.xml')"
   ]
  },
  {
   "cell_type": "code",
   "execution_count": 2,
   "metadata": {},
   "outputs": [
    {
     "data": {
      "text/plain": [
       "25"
      ]
     },
     "execution_count": 2,
     "metadata": {},
     "output_type": "execute_result"
    }
   ],
   "source": [
    "# Get all features for the feature model\n",
    "def get_features(mx_graph):\n",
    "    features = {}\n",
    "\n",
    "    for feature in mx_graph.xpath('''//root | \n",
    "                                     //concrete | \n",
    "                                     //abstract'''):\n",
    "        feature_dict = dict(feature.items())\n",
    "        \n",
    "        if feature_dict and 'clon' not in feature_dict['id']:\n",
    "            features[feature_dict['id']] = {\n",
    "                'type': feature_dict['type'],\n",
    "                'label': feature_dict['label'],\n",
    "            }\n",
    "            \n",
    "    return features\n",
    "\n",
    "features = get_features(mx_graph_tree)\n",
    "len(features)"
   ]
  },
  {
   "cell_type": "code",
   "execution_count": 3,
   "metadata": {},
   "outputs": [
    {
     "data": {
      "text/plain": [
       "27"
      ]
     },
     "execution_count": 3,
     "metadata": {},
     "output_type": "execute_result"
    }
   ],
   "source": [
    "# Get all relations for the feature model\n",
    "def get_relations(mx_graph):\n",
    "    relations = []\n",
    "\n",
    "    for relation in mx_graph_tree.xpath('''//rel_concrete_root | \n",
    "                                           //rel_abstract_root | \n",
    "                                           //rel_concrete_abstract | \n",
    "                                           //rel_abstract_abstract |\n",
    "                                           //rel_concrete_concrete'''):\n",
    "\n",
    "        relation_dict = dict(relation.items())\n",
    "        relation_source_dict = dict(relation.find('.//mxCell').items())\n",
    "\n",
    "        relations.append({\n",
    "            'type': relation_dict['relType'],\n",
    "            'source': relation_source_dict['source'],\n",
    "            'target': relation_source_dict['target'],\n",
    "        })\n",
    "        \n",
    "    return relations\n",
    "\n",
    "relations = get_relations(mx_graph_tree)\n",
    "len(relations)"
   ]
  },
  {
   "cell_type": "code",
   "execution_count": 41,
   "metadata": {},
   "outputs": [
    {
     "data": {
      "text/plain": [
       "'1'"
      ]
     },
     "execution_count": 41,
     "metadata": {},
     "output_type": "execute_result"
    }
   ],
   "source": [
    "def get_root(features):\n",
    "    for key, feature in features.items():\n",
    "        if feature['type'] == 'root':\n",
    "            return key\n",
    "\n",
    "root_id = get_root(features)\n",
    "root_id"
   ]
  },
  {
   "cell_type": "code",
   "execution_count": 42,
   "metadata": {},
   "outputs": [],
   "source": [
    "build_rels_funcs = {\n",
    "    'root': lambda x: f'\\tF{x} #= 1,',\n",
    "    'optional': lambda x, y: f'\\tF{x} #>= F{y},',\n",
    "    'mandatory': lambda x, y: f'\\tF{x} #= F{y},',\n",
    "    'requires': lambda x, y: f'\\tF{x} #==> F{y},',\n",
    "    'excludes': lambda x, y: f'\\tF{x} * F{y} #= 0,',\n",
    "}\n",
    "\n",
    "function_signature = \"function(L):-\"\n",
    "variables = ''.join(['\\tL=[', ', '.join([f'F{k}' for k in features.keys()]) , '],'])\n",
    "variables_domain = '\\tfd_domain(L, 0, 1),'\n",
    "\n",
    "root_constrain = [build_rels_funcs['root'](root_id)]\n",
    "constrains = '\\n'.join(root_constrain + [\n",
    "    build_rels_funcs[relation['type']](relation['source'], relation['target']) for relation in relations\n",
    "])\n",
    "\n",
    "labeling = '\\tfd_labneling(L)'\n",
    "\n",
    "prolog_str = '\\n'.join(\n",
    "    [\n",
    "        function_signature,\n",
    "        variables,\n",
    "        variables_domain,\n",
    "        constrains,\n",
    "        labeling,\n",
    "    ]\n",
    ")\n",
    "\n",
    "prolog_str = prolog_str + '.'"
   ]
  },
  {
   "cell_type": "code",
   "execution_count": 43,
   "metadata": {},
   "outputs": [
    {
     "name": "stdout",
     "output_type": "stream",
     "text": [
      "function(L):-\n",
      "\tL=[F1, F2, F3, F6, F49, F60, F72, F75, F77, F113, F114, F115, F141, F142, F143, F144, F145, F205, F206, F207, F208, F251, F256, F263, F270],\n",
      "\tfd_domain(L, 0, 1),\n",
      "\tF1 #= 1,\n",
      "\tF2 #>= F1,\n",
      "\tF3 #>= F1,\n",
      "\tF6 #= F1,\n",
      "\tF49 #= F1,\n",
      "\tF60 #>= F1,\n",
      "\tF75 #==> F77,\n",
      "\tF208 #==> F72,\n",
      "\tF206 #==> F143,\n",
      "\tF251 #>= F1,\n",
      "\tF113 #= F251,\n",
      "\tF115 #>= F251,\n",
      "\tF114 #>= F251,\n",
      "\tF141 #>= F256,\n",
      "\tF144 #= F256,\n",
      "\tF145 #>= F256,\n",
      "\tF142 #= F256,\n",
      "\tF143 #>= F256,\n",
      "\tF256 #= F1,\n",
      "\tF205 #= F263,\n",
      "\tF206 #>= F263,\n",
      "\tF207 #>= F263,\n",
      "\tF208 #>= F263,\n",
      "\tF263 #>= F1,\n",
      "\tF77 #>= F270,\n",
      "\tF72 #= F270,\n",
      "\tF75 #>= F270,\n",
      "\tF270 #>= F1,\n",
      "\tfd_labneling(L).\n"
     ]
    }
   ],
   "source": [
    "print(prolog_str)"
   ]
  },
  {
   "cell_type": "code",
   "execution_count": null,
   "metadata": {},
   "outputs": [],
   "source": []
  }
 ],
 "metadata": {
  "kernelspec": {
   "display_name": "Python 3",
   "language": "python",
   "name": "python3"
  },
  "language_info": {
   "codemirror_mode": {
    "name": "ipython",
    "version": 3
   },
   "file_extension": ".py",
   "mimetype": "text/x-python",
   "name": "python",
   "nbconvert_exporter": "python",
   "pygments_lexer": "ipython3",
   "version": "3.6.9"
  }
 },
 "nbformat": 4,
 "nbformat_minor": 2
}
