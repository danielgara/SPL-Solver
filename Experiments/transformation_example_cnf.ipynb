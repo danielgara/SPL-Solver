{
 "cells": [
  {
   "cell_type": "code",
   "execution_count": 8,
   "metadata": {},
   "outputs": [],
   "source": [
    "from lxml import etree\n",
    "from lxml.builder import E\n",
    "\n",
    "mx_graph_tree = etree.parse('./Example Files/mxgraph.xml')"
   ]
  },
  {
   "cell_type": "code",
   "execution_count": 57,
   "metadata": {},
   "outputs": [
    {
     "data": {
      "text/plain": [
       "25"
      ]
     },
     "execution_count": 57,
     "metadata": {},
     "output_type": "execute_result"
    }
   ],
   "source": [
    "# Get all features for the feature model\n",
    "def get_features(mx_graph):\n",
    "    features = {}\n",
    "\n",
    "    for feature in mx_graph.xpath('''//root | \n",
    "                                     //concrete | \n",
    "                                     //abstract'''):\n",
    "        feature_dict = dict(feature.items())\n",
    "        \n",
    "        if feature_dict and 'clon' not in feature_dict['id']:\n",
    "            features[feature_dict['id']] = {\n",
    "                'type': feature_dict['type'],\n",
    "                'label': feature_dict['label'],\n",
    "            }\n",
    "            \n",
    "    return features\n",
    "\n",
    "features = get_features(mx_graph_tree)\n",
    "len(features)"
   ]
  },
  {
   "cell_type": "code",
   "execution_count": 60,
   "metadata": {},
   "outputs": [
    {
     "data": {
      "text/plain": [
       "27"
      ]
     },
     "execution_count": 60,
     "metadata": {},
     "output_type": "execute_result"
    }
   ],
   "source": [
    "# Get all relations for the feature model\n",
    "def get_relations(mx_graph):\n",
    "    relations = []\n",
    "\n",
    "    for relation in mx_graph_tree.xpath('''//rel_concrete_root | \n",
    "                                           //rel_abstract_root | \n",
    "                                           //rel_concrete_abstract | \n",
    "                                           //rel_abstract_abstract |\n",
    "                                           //rel_concrete_concrete'''):\n",
    "\n",
    "        relation_dict = dict(relation.items())\n",
    "        relation_source_dict = dict(relation.find('.//mxCell').items())\n",
    "\n",
    "        relations.append({\n",
    "            'type': relation_dict['relType'],\n",
    "            'source': relation_source_dict['source'],\n",
    "            'target': relation_source_dict['target'],\n",
    "        })\n",
    "        \n",
    "    return relations\n",
    "\n",
    "relations = get_relations(mx_graph_tree)\n",
    "len(relations)"
   ]
  },
  {
   "cell_type": "code",
   "execution_count": 67,
   "metadata": {},
   "outputs": [
    {
     "data": {
      "text/plain": [
       "(25, 27)"
      ]
     },
     "execution_count": 67,
     "metadata": {},
     "output_type": "execute_result"
    }
   ],
   "source": [
    "# Normalize naming to be a continous numeric set\n",
    "def normilez_naming(features, relations):\n",
    "    feature_keys = features.keys()\n",
    "    \n",
    "    feature_mapping = dict(list(zip(feature_keys, range(1, len(feature_keys) + 1))))\n",
    "    \n",
    "    # Transform the features\n",
    "    new_features = {}\n",
    "    \n",
    "    for k, v in feature_mapping.items():\n",
    "        new_features[v] = features[k]\n",
    "        \n",
    "    # Transform the relations\n",
    "    new_relations = []\n",
    "    \n",
    "    for relation in relations:        \n",
    "        new_relations.append({\n",
    "            'type': relation['type'],\n",
    "            'source': feature_mapping[relation['source']],\n",
    "            'target': feature_mapping[relation['target']],\n",
    "        })\n",
    "        \n",
    "    return new_features, new_relations\n",
    "\n",
    "features, relations = normilez_naming(features, relations)\n",
    "len(features), len(relations)"
   ]
  },
  {
   "cell_type": "code",
   "execution_count": 69,
   "metadata": {},
   "outputs": [
    {
     "data": {
      "text/plain": [
       "1"
      ]
     },
     "execution_count": 69,
     "metadata": {},
     "output_type": "execute_result"
    }
   ],
   "source": [
    "def get_root(features):\n",
    "    for key, feature in features.items():\n",
    "        if feature['type'] == 'root':\n",
    "            return key\n",
    "\n",
    "get_root(features)"
   ]
  },
  {
   "cell_type": "code",
   "execution_count": 83,
   "metadata": {},
   "outputs": [],
   "source": [
    "problem_line = [\"p cnf {} {}\".format(len(features), len(relations))]\n",
    "\n",
    "cnf_converter = {\n",
    "    'root': lambda x: f'{x} 0',\n",
    "    'optional': lambda x, y: f'-{x} {y} 0',\n",
    "    'requires': lambda x, y: f'-{x} {y} 0',\n",
    "    'excludes': lambda x, y: f'-{x} -{y} 0',\n",
    "    'mandatory': lambda x, y: f'-{x} {y} 0 \\n {y} {x} 0',\n",
    "}\n",
    "\n",
    "root_line = [cnf_converter['root'](get_root(features))]\n",
    "\n",
    "constrain_lines = [\n",
    "    cnf_converter[relation['type']](relation['source'], relation['target']) for relation in relations\n",
    "]"
   ]
  },
  {
   "cell_type": "code",
   "execution_count": 84,
   "metadata": {},
   "outputs": [
    {
     "name": "stdout",
     "output_type": "stream",
     "text": [
      "p cnf 25 27\n",
      "1 0\n",
      "-2 1 0\n",
      "-3 1 0\n",
      "-4 1 0 \n",
      " 1 4 0\n",
      "-5 1 0 \n",
      " 1 5 0\n",
      "-6 1 0\n",
      "-8 9 0\n",
      "-21 7 0\n",
      "-19 15 0\n",
      "-22 1 0\n",
      "-10 22 0 \n",
      " 22 10 0\n",
      "-12 22 0\n",
      "-11 22 0\n",
      "-13 23 0\n",
      "-16 23 0 \n",
      " 23 16 0\n",
      "-17 23 0\n",
      "-14 23 0 \n",
      " 23 14 0\n",
      "-15 23 0\n",
      "-23 1 0 \n",
      " 1 23 0\n",
      "-18 24 0 \n",
      " 24 18 0\n",
      "-19 24 0\n",
      "-20 24 0\n",
      "-21 24 0\n",
      "-24 1 0\n",
      "-9 25 0\n",
      "-7 25 0 \n",
      " 25 7 0\n",
      "-8 25 0\n",
      "-25 1 0\n"
     ]
    }
   ],
   "source": [
    "print('\\n'.join(problem_line + root_line + constrain_lines))"
   ]
  },
  {
   "cell_type": "code",
   "execution_count": null,
   "metadata": {},
   "outputs": [],
   "source": []
  }
 ],
 "metadata": {
  "kernelspec": {
   "display_name": "Python 3",
   "language": "python",
   "name": "python3"
  },
  "language_info": {
   "codemirror_mode": {
    "name": "ipython",
    "version": 3
   },
   "file_extension": ".py",
   "mimetype": "text/x-python",
   "name": "python",
   "nbconvert_exporter": "python",
   "pygments_lexer": "ipython3",
   "version": "3.6.9"
  }
 },
 "nbformat": 4,
 "nbformat_minor": 2
}
