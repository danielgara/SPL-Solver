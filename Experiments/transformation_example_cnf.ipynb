{
 "cells": [
  {
   "cell_type": "code",
   "execution_count": 134,
   "metadata": {},
   "outputs": [],
   "source": [
    "from lxml import etree\n",
    "from lxml.builder import E\n",
    "\n",
    "mx_graph_tree = etree.parse('./Example Files/mxgraph.xml')"
   ]
  },
  {
   "cell_type": "code",
   "execution_count": 135,
   "metadata": {},
   "outputs": [
    {
     "data": {
      "text/plain": [
       "25"
      ]
     },
     "execution_count": 135,
     "metadata": {},
     "output_type": "execute_result"
    }
   ],
   "source": [
    "# Get all features for the feature model\n",
    "def get_features(mx_graph):\n",
    "    features = {}\n",
    "\n",
    "    for feature in mx_graph.xpath('''//root | \n",
    "                                     //concrete | \n",
    "                                     //abstract'''):\n",
    "        feature_dict = dict(feature.items())\n",
    "        \n",
    "        if feature_dict and 'clon' not in feature_dict['id']:\n",
    "            features[feature_dict['id']] = {\n",
    "                'type': feature_dict['type'],\n",
    "                'label': feature_dict['label'],\n",
    "            }\n",
    "            \n",
    "    return features\n",
    "\n",
    "features = get_features(mx_graph_tree)\n",
    "len(features)"
   ]
  },
  {
   "cell_type": "code",
   "execution_count": 136,
   "metadata": {},
   "outputs": [
    {
     "data": {
      "text/plain": [
       "27"
      ]
     },
     "execution_count": 136,
     "metadata": {},
     "output_type": "execute_result"
    }
   ],
   "source": [
    "# Get all relations for the feature model\n",
    "def get_relations(mx_graph):\n",
    "    relations = []\n",
    "\n",
    "    for relation in mx_graph_tree.xpath('''//rel_concrete_root | \n",
    "                                           //rel_abstract_root | \n",
    "                                           //rel_concrete_abstract | \n",
    "                                           //rel_abstract_abstract |\n",
    "                                           //rel_concrete_concrete'''):\n",
    "\n",
    "        relation_dict = dict(relation.items())\n",
    "        relation_source_dict = dict(relation.find('.//mxCell').items())\n",
    "\n",
    "        relations.append({\n",
    "            'type': relation_dict['relType'],\n",
    "            'source': relation_source_dict['source'],\n",
    "            'target': relation_source_dict['target'],\n",
    "        })\n",
    "        \n",
    "    return relations\n",
    "\n",
    "relations = get_relations(mx_graph_tree)\n",
    "len(relations)"
   ]
  },
  {
   "cell_type": "code",
   "execution_count": 137,
   "metadata": {},
   "outputs": [
    {
     "data": {
      "text/plain": [
       "(25, 27)"
      ]
     },
     "execution_count": 137,
     "metadata": {},
     "output_type": "execute_result"
    }
   ],
   "source": [
    "# Normalize naming to be a continous numeric set\n",
    "def normilez_naming(features, relations):\n",
    "    feature_keys = features.keys()\n",
    "    \n",
    "    feature_mapping = dict(list(zip(feature_keys, range(1, len(feature_keys) + 1))))\n",
    "    \n",
    "    # Transform the features\n",
    "    new_features = {}\n",
    "    \n",
    "    for k, v in feature_mapping.items():\n",
    "        new_features[v] = features[k]\n",
    "        \n",
    "    # Transform the relations\n",
    "    new_relations = []\n",
    "    \n",
    "    for relation in relations:        \n",
    "        new_relations.append({\n",
    "            'type': relation['type'],\n",
    "            'source': feature_mapping[relation['source']],\n",
    "            'target': feature_mapping[relation['target']],\n",
    "        })\n",
    "        \n",
    "    return new_features, new_relations\n",
    "\n",
    "features, relations = normilez_naming(features, relations)\n",
    "len(features), len(relations)"
   ]
  },
  {
   "cell_type": "code",
   "execution_count": 138,
   "metadata": {},
   "outputs": [
    {
     "data": {
      "text/plain": [
       "1"
      ]
     },
     "execution_count": 138,
     "metadata": {},
     "output_type": "execute_result"
    }
   ],
   "source": [
    "def get_root(features):\n",
    "    for key, feature in features.items():\n",
    "        if feature['type'] == 'root':\n",
    "            return key\n",
    "\n",
    "get_root(features)"
   ]
  },
  {
   "cell_type": "code",
   "execution_count": 143,
   "metadata": {},
   "outputs": [],
   "source": [
    "cnf_converter = {\n",
    "    'root': lambda x: f'{x} 0',\n",
    "    'optional': lambda x, y: f'-{x} {y} 0',\n",
    "    'requires': lambda x, y: f'-{x} {y} 0',\n",
    "    'excludes': lambda x, y: f'-{x} -{y} 0',\n",
    "    'mandatory': lambda x, y: f'-{x} {y} 0\\n-{y} {x} 0',\n",
    "}\n",
    "\n",
    "root_line = [cnf_converter['root'](get_root(features))]\n",
    "\n",
    "constrain_lines = [\n",
    "    cnf_converter[relation['type']](relation['source'], relation['target']) for relation in relations\n",
    "]\n",
    "\n",
    "constrain_lines = root_line + constrain_lines\n",
    "\n",
    "problem_line = [\"p cnf {} {}\".format(len(features), len(constrain_lines))]\n",
    "cnf_str = '\\n'.join(problem_line + constrain_lines)"
   ]
  },
  {
   "cell_type": "code",
   "execution_count": 144,
   "metadata": {},
   "outputs": [
    {
     "name": "stdout",
     "output_type": "stream",
     "text": [
      "p cnf 25 28\n",
      "1 0\n",
      "-2 1 0\n",
      "-3 1 0\n",
      "-4 1 0\n",
      "-1 4 0\n",
      "-5 1 0\n",
      "-1 5 0\n",
      "-6 1 0\n",
      "-8 9 0\n",
      "-21 7 0\n",
      "-19 15 0\n",
      "-22 1 0\n",
      "-10 22 0\n",
      "-22 10 0\n",
      "-12 22 0\n",
      "-11 22 0\n",
      "-13 23 0\n",
      "-16 23 0\n",
      "-23 16 0\n",
      "-17 23 0\n",
      "-14 23 0\n",
      "-23 14 0\n",
      "-15 23 0\n",
      "-23 1 0\n",
      "-1 23 0\n",
      "-18 24 0\n",
      "-24 18 0\n",
      "-19 24 0\n",
      "-20 24 0\n",
      "-21 24 0\n",
      "-24 1 0\n",
      "-9 25 0\n",
      "-7 25 0\n",
      "-25 7 0\n",
      "-8 25 0\n",
      "-25 1 0\n"
     ]
    }
   ],
   "source": [
    "print(cnf_str)"
   ]
  },
  {
   "cell_type": "code",
   "execution_count": 146,
   "metadata": {},
   "outputs": [],
   "source": [
    "with open(\"./Example Files/example_cnf.cnf\",\"w+\") as file:\n",
    "    file.write(cnf_str)"
   ]
  },
  {
   "cell_type": "code",
   "execution_count": 148,
   "metadata": {},
   "outputs": [
    {
     "name": "stdout",
     "output_type": "stream",
     "text": [
      "c Outputting solution to console\n",
      "c CryptoMiniSat version 5.6.8\n",
      "c CMS Copyright Mate Soos (soos.mate@gmail.com)\n",
      "c CMS SHA revision \n",
      "c CMS is GPL licensed due to M4RI being linked. Build without M4RI to get MIT version\n",
      "c CMS compilation env CMAKE_CXX_COMPILER = /usr/bin/c++ | CMAKE_CXX_FLAGS =  -Wall -Wextra -Wunused -Wsign-compare -fno-omit-frame-pointer -Wtype-limits -Wuninitialized -Wno-deprecated -Wstrict-aliasing -Wpointer-arith -Wpointer-arith -Wformat-nonliteral -Winit-self -Wparentheses -Wunreachable-code -ggdb3 -Wlogical-op -Wdouble-promotion -Wshadow -Wformat=2 -pedantic | COMPILE_DEFINES =  -DUSE_ZLIB -DYALSAT_FPU -DUSE_M4RI | STATICCOMPILE = ON | ONLY_SIMPLE = OFF | Boost_FOUND = 1 | STATS = OFF | SQLITE3_FOUND =  | ZLIB_FOUND = TRUE | VALGRIND_FOUND =  | ENABLE_TESTING = OFF | M4RI_FOUND = TRUE | NOM4RI = OFF | SLOW_DEBUG = OFF | ENABLE_ASSERTIONS = ON | PYTHON_EXECUTABLE = PYTHON_EXECUTABLE-NOTFOUND | PYTHON_LIBRARY = PYTHON_LIBRARY-NOTFOUND | PYTHON_INCLUDE_DIRS =  | MY_TARGETS =  | LARGEMEM = OFF | LIMITMEM = OFF | compilation date time = Aug  1 2019 07:58:42\n",
      "c CMS compiled with gcc version 5.5.0 20171010\n",
      "c Executed with command line: /usr/local/bin/cryptominisat5\n",
      "c Reading from standard input... Use '-h' or '--help' for help.\n",
      "c -- header says num vars:             25\n",
      "c -- header says num clauses:          28\n",
      "c -- clauses added: 36\n",
      "c -- xor clauses added: 0\n",
      "c -- vars added 25\n",
      "c Parsing time: 0.00 s\n",
      "c   type VSIDS  rest  conf freevar  IrrL  IrrB l/longC  l/allC RedL0 RedL1 RedL2  RedB l/longC  l/allC\n",
      "c ------- FINAL TOTAL SEARCH STATS ---------\n",
      "c UIP search time          : 0.00        (0.00      % time)\n",
      "c restarts                 : 1           (0.00      confls per restart)\n",
      "c blocked restarts         : 0           (0.00      per normal restart)\n",
      "c time                     : 0.00        \n",
      "c decisions                : 9           (0.00      % random)\n",
      "c propagations             : 19          \n",
      "c decisions/conflicts      : 0.00        \n",
      "c conflicts                : 0           (0.00      / sec)\n",
      "c conf lits non-minim      : 0           (0.00      lit/confl)\n",
      "c conf lits final          : 0.00        \n",
      "c cache hit re-learnt cl   : 0           (0.00      % of confl)\n",
      "c red which0               : 0           (0.00      % of confl)\n",
      "c props/decision           : 0.00        \n",
      "c props/conflict           : 0.00        \n",
      "c 0-depth assigns          : 6           (24.00     % vars)\n",
      "c 0-depth assigns by CNF   : 6           (24.00     % vars)\n",
      "c reduceDB time            : 0.00        (0.00      % time)\n",
      "c OccSimplifier time       : 0.00        (0.00      % time)\n",
      "c [occur] 0.00 is overhead\n",
      "c [occur] link-in T: 0.00 cleanup T: 0.00\n",
      "c [occ-substr] long subBySub: 0 subByStr: 0 lits-rem-str: 0 T: 0.00\n",
      "c SCC time                 : 0.00        (0.00      % time)\n",
      "c [scc] new: 0 BP 0M  T: 0.00\n",
      "c vrep replace time        : 0.00        (0.00      % time)\n",
      "c vrep tree roots          : 0           \n",
      "c vrep trees' crown        : 0           (0.00      leafs/tree)\n",
      "c distill time             : 0.00        (0.00      % time)\n",
      "c strength cache-irred time: 0.00        (0.00      % time)\n",
      "c strength cache-red time  : 0.00        (0.00      % time)\n",
      "c Conflicts in UIP         : 0           (0.00      confl/time_this_thread)\n",
      "c Mem used                 : 4.30        MB\n",
      "c Total time (this thread) : 0.19        \n",
      "s SATISFIABLE\n",
      "v 1 -2 -3 4 5 -6 -7 -8 -9 -10 -11 -12 -13 14 -15 16 -17 -18 -19 -20 -21 -22 23 \n",
      "v -24 -25 0\n"
     ]
    },
    {
     "ename": "CalledProcessError",
     "evalue": "Command 'b'\\n# Solve the CNF constrain problem\\ncat ./Example\\\\ Files/example_cnf.cnf | docker run --rm -i msoos/cryptominisat\\n'' returned non-zero exit status 10.",
     "output_type": "error",
     "traceback": [
      "\u001b[0;31m---------------------------------------------------------------------------\u001b[0m",
      "\u001b[0;31mCalledProcessError\u001b[0m                        Traceback (most recent call last)",
      "\u001b[0;32m<ipython-input-148-3a93f30cbd1c>\u001b[0m in \u001b[0;36m<module>\u001b[0;34m\u001b[0m\n\u001b[0;32m----> 1\u001b[0;31m \u001b[0mget_ipython\u001b[0m\u001b[0;34m(\u001b[0m\u001b[0;34m)\u001b[0m\u001b[0;34m.\u001b[0m\u001b[0mrun_cell_magic\u001b[0m\u001b[0;34m(\u001b[0m\u001b[0;34m'bash'\u001b[0m\u001b[0;34m,\u001b[0m \u001b[0;34m''\u001b[0m\u001b[0;34m,\u001b[0m \u001b[0;34m'\\n# Solve the CNF constrain problem\\ncat ./Example\\\\ Files/example_cnf.cnf | docker run --rm -i msoos/cryptominisat\\n'\u001b[0m\u001b[0;34m)\u001b[0m\u001b[0;34m\u001b[0m\u001b[0;34m\u001b[0m\u001b[0m\n\u001b[0m",
      "\u001b[0;32m~/.anaconda/envs/XCSP/lib/python3.6/site-packages/IPython/core/interactiveshell.py\u001b[0m in \u001b[0;36mrun_cell_magic\u001b[0;34m(self, magic_name, line, cell)\u001b[0m\n\u001b[1;32m   2357\u001b[0m             \u001b[0;32mwith\u001b[0m \u001b[0mself\u001b[0m\u001b[0;34m.\u001b[0m\u001b[0mbuiltin_trap\u001b[0m\u001b[0;34m:\u001b[0m\u001b[0;34m\u001b[0m\u001b[0;34m\u001b[0m\u001b[0m\n\u001b[1;32m   2358\u001b[0m                 \u001b[0margs\u001b[0m \u001b[0;34m=\u001b[0m \u001b[0;34m(\u001b[0m\u001b[0mmagic_arg_s\u001b[0m\u001b[0;34m,\u001b[0m \u001b[0mcell\u001b[0m\u001b[0;34m)\u001b[0m\u001b[0;34m\u001b[0m\u001b[0;34m\u001b[0m\u001b[0m\n\u001b[0;32m-> 2359\u001b[0;31m                 \u001b[0mresult\u001b[0m \u001b[0;34m=\u001b[0m \u001b[0mfn\u001b[0m\u001b[0;34m(\u001b[0m\u001b[0;34m*\u001b[0m\u001b[0margs\u001b[0m\u001b[0;34m,\u001b[0m \u001b[0;34m**\u001b[0m\u001b[0mkwargs\u001b[0m\u001b[0;34m)\u001b[0m\u001b[0;34m\u001b[0m\u001b[0;34m\u001b[0m\u001b[0m\n\u001b[0m\u001b[1;32m   2360\u001b[0m             \u001b[0;32mreturn\u001b[0m \u001b[0mresult\u001b[0m\u001b[0;34m\u001b[0m\u001b[0;34m\u001b[0m\u001b[0m\n\u001b[1;32m   2361\u001b[0m \u001b[0;34m\u001b[0m\u001b[0m\n",
      "\u001b[0;32m~/.anaconda/envs/XCSP/lib/python3.6/site-packages/IPython/core/magics/script.py\u001b[0m in \u001b[0;36mnamed_script_magic\u001b[0;34m(line, cell)\u001b[0m\n\u001b[1;32m    140\u001b[0m             \u001b[0;32melse\u001b[0m\u001b[0;34m:\u001b[0m\u001b[0;34m\u001b[0m\u001b[0;34m\u001b[0m\u001b[0m\n\u001b[1;32m    141\u001b[0m                 \u001b[0mline\u001b[0m \u001b[0;34m=\u001b[0m \u001b[0mscript\u001b[0m\u001b[0;34m\u001b[0m\u001b[0;34m\u001b[0m\u001b[0m\n\u001b[0;32m--> 142\u001b[0;31m             \u001b[0;32mreturn\u001b[0m \u001b[0mself\u001b[0m\u001b[0;34m.\u001b[0m\u001b[0mshebang\u001b[0m\u001b[0;34m(\u001b[0m\u001b[0mline\u001b[0m\u001b[0;34m,\u001b[0m \u001b[0mcell\u001b[0m\u001b[0;34m)\u001b[0m\u001b[0;34m\u001b[0m\u001b[0;34m\u001b[0m\u001b[0m\n\u001b[0m\u001b[1;32m    143\u001b[0m \u001b[0;34m\u001b[0m\u001b[0m\n\u001b[1;32m    144\u001b[0m         \u001b[0;31m# write a basic docstring:\u001b[0m\u001b[0;34m\u001b[0m\u001b[0;34m\u001b[0m\u001b[0;34m\u001b[0m\u001b[0m\n",
      "\u001b[0;32m</home/fpiedrah/.anaconda/envs/XCSP/lib/python3.6/site-packages/decorator.py:decorator-gen-110>\u001b[0m in \u001b[0;36mshebang\u001b[0;34m(self, line, cell)\u001b[0m\n",
      "\u001b[0;32m~/.anaconda/envs/XCSP/lib/python3.6/site-packages/IPython/core/magic.py\u001b[0m in \u001b[0;36m<lambda>\u001b[0;34m(f, *a, **k)\u001b[0m\n\u001b[1;32m    185\u001b[0m     \u001b[0;31m# but it's overkill for just that one bit of state.\u001b[0m\u001b[0;34m\u001b[0m\u001b[0;34m\u001b[0m\u001b[0;34m\u001b[0m\u001b[0m\n\u001b[1;32m    186\u001b[0m     \u001b[0;32mdef\u001b[0m \u001b[0mmagic_deco\u001b[0m\u001b[0;34m(\u001b[0m\u001b[0marg\u001b[0m\u001b[0;34m)\u001b[0m\u001b[0;34m:\u001b[0m\u001b[0;34m\u001b[0m\u001b[0;34m\u001b[0m\u001b[0m\n\u001b[0;32m--> 187\u001b[0;31m         \u001b[0mcall\u001b[0m \u001b[0;34m=\u001b[0m \u001b[0;32mlambda\u001b[0m \u001b[0mf\u001b[0m\u001b[0;34m,\u001b[0m \u001b[0;34m*\u001b[0m\u001b[0ma\u001b[0m\u001b[0;34m,\u001b[0m \u001b[0;34m**\u001b[0m\u001b[0mk\u001b[0m\u001b[0;34m:\u001b[0m \u001b[0mf\u001b[0m\u001b[0;34m(\u001b[0m\u001b[0;34m*\u001b[0m\u001b[0ma\u001b[0m\u001b[0;34m,\u001b[0m \u001b[0;34m**\u001b[0m\u001b[0mk\u001b[0m\u001b[0;34m)\u001b[0m\u001b[0;34m\u001b[0m\u001b[0;34m\u001b[0m\u001b[0m\n\u001b[0m\u001b[1;32m    188\u001b[0m \u001b[0;34m\u001b[0m\u001b[0m\n\u001b[1;32m    189\u001b[0m         \u001b[0;32mif\u001b[0m \u001b[0mcallable\u001b[0m\u001b[0;34m(\u001b[0m\u001b[0marg\u001b[0m\u001b[0;34m)\u001b[0m\u001b[0;34m:\u001b[0m\u001b[0;34m\u001b[0m\u001b[0;34m\u001b[0m\u001b[0m\n",
      "\u001b[0;32m~/.anaconda/envs/XCSP/lib/python3.6/site-packages/IPython/core/magics/script.py\u001b[0m in \u001b[0;36mshebang\u001b[0;34m(self, line, cell)\u001b[0m\n\u001b[1;32m    243\u001b[0m             \u001b[0msys\u001b[0m\u001b[0;34m.\u001b[0m\u001b[0mstderr\u001b[0m\u001b[0;34m.\u001b[0m\u001b[0mflush\u001b[0m\u001b[0;34m(\u001b[0m\u001b[0;34m)\u001b[0m\u001b[0;34m\u001b[0m\u001b[0;34m\u001b[0m\u001b[0m\n\u001b[1;32m    244\u001b[0m         \u001b[0;32mif\u001b[0m \u001b[0margs\u001b[0m\u001b[0;34m.\u001b[0m\u001b[0mraise_error\u001b[0m \u001b[0;32mand\u001b[0m \u001b[0mp\u001b[0m\u001b[0;34m.\u001b[0m\u001b[0mreturncode\u001b[0m\u001b[0;34m!=\u001b[0m\u001b[0;36m0\u001b[0m\u001b[0;34m:\u001b[0m\u001b[0;34m\u001b[0m\u001b[0;34m\u001b[0m\u001b[0m\n\u001b[0;32m--> 245\u001b[0;31m             \u001b[0;32mraise\u001b[0m \u001b[0mCalledProcessError\u001b[0m\u001b[0;34m(\u001b[0m\u001b[0mp\u001b[0m\u001b[0;34m.\u001b[0m\u001b[0mreturncode\u001b[0m\u001b[0;34m,\u001b[0m \u001b[0mcell\u001b[0m\u001b[0;34m,\u001b[0m \u001b[0moutput\u001b[0m\u001b[0;34m=\u001b[0m\u001b[0mout\u001b[0m\u001b[0;34m,\u001b[0m \u001b[0mstderr\u001b[0m\u001b[0;34m=\u001b[0m\u001b[0merr\u001b[0m\u001b[0;34m)\u001b[0m\u001b[0;34m\u001b[0m\u001b[0;34m\u001b[0m\u001b[0m\n\u001b[0m\u001b[1;32m    246\u001b[0m \u001b[0;34m\u001b[0m\u001b[0m\n\u001b[1;32m    247\u001b[0m     \u001b[0;32mdef\u001b[0m \u001b[0m_run_script\u001b[0m\u001b[0;34m(\u001b[0m\u001b[0mself\u001b[0m\u001b[0;34m,\u001b[0m \u001b[0mp\u001b[0m\u001b[0;34m,\u001b[0m \u001b[0mcell\u001b[0m\u001b[0;34m,\u001b[0m \u001b[0mto_close\u001b[0m\u001b[0;34m)\u001b[0m\u001b[0;34m:\u001b[0m\u001b[0;34m\u001b[0m\u001b[0;34m\u001b[0m\u001b[0m\n",
      "\u001b[0;31mCalledProcessError\u001b[0m: Command 'b'\\n# Solve the CNF constrain problem\\ncat ./Example\\\\ Files/example_cnf.cnf | docker run --rm -i msoos/cryptominisat\\n'' returned non-zero exit status 10."
     ]
    }
   ],
   "source": [
    "%%bash\n",
    "\n",
    "# Solve the CNF constrain problem\n",
    "cat ./Example\\ Files/example_cnf.cnf | docker run --rm -i msoos/cryptominisat"
   ]
  },
  {
   "cell_type": "code",
   "execution_count": null,
   "metadata": {},
   "outputs": [],
   "source": []
  }
 ],
 "metadata": {
  "kernelspec": {
   "display_name": "Python 3",
   "language": "python",
   "name": "python3"
  },
  "language_info": {
   "codemirror_mode": {
    "name": "ipython",
    "version": 3
   },
   "file_extension": ".py",
   "mimetype": "text/x-python",
   "name": "python",
   "nbconvert_exporter": "python",
   "pygments_lexer": "ipython3",
   "version": "3.6.9"
  }
 },
 "nbformat": 4,
 "nbformat_minor": 2
}
