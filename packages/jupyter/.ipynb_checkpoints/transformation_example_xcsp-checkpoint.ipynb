{
 "cells": [
  {
   "cell_type": "code",
   "execution_count": null,
   "metadata": {},
   "outputs": [],
   "source": [
    "%%bash\n",
    "# Download concrete solver from git releases page\n",
    "wget https://github.com/concrete-cp/concrete/releases/download/v3.11/concrete-3.11.txz\n",
    "\n",
    "xz -d concrete-3.11.txz\n",
    "tar xvf concrete-3.11.tar\n",
    "\n",
    "rm -rf concrete-3.11.tar concrete-3.11.txz"
   ]
  },
  {
   "cell_type": "code",
   "execution_count": 24,
   "metadata": {},
   "outputs": [],
   "source": [
    "from lxml import etree\n",
    "from lxml.builder import E\n",
    "\n",
    "mx_graph_tree = etree.parse('./Example Files/mxgraph.xml')"
   ]
  },
  {
   "cell_type": "code",
   "execution_count": 25,
   "metadata": {},
   "outputs": [
    {
     "data": {
      "text/plain": [
       "25"
      ]
     },
     "execution_count": 25,
     "metadata": {},
     "output_type": "execute_result"
    }
   ],
   "source": [
    "# Get all features for the feature model\n",
    "def get_features(mx_graph):\n",
    "    features = {}\n",
    "\n",
    "    for feature in mx_graph.xpath('''//root | \n",
    "                                     //concrete | \n",
    "                                     //abstract'''):\n",
    "        feature_dict = dict(feature.items())\n",
    "        \n",
    "        if feature_dict and 'clon' not in feature_dict['id']:\n",
    "            features[feature_dict['id']] = {\n",
    "                'type': feature_dict['type'],\n",
    "                'label': feature_dict['label'],\n",
    "            }\n",
    "            \n",
    "    return features\n",
    "\n",
    "features = get_features(mx_graph_tree)\n",
    "len(features)"
   ]
  },
  {
   "cell_type": "code",
   "execution_count": 26,
   "metadata": {},
   "outputs": [
    {
     "data": {
      "text/plain": [
       "27"
      ]
     },
     "execution_count": 26,
     "metadata": {},
     "output_type": "execute_result"
    }
   ],
   "source": [
    "# Get all relations for the feature model\n",
    "def get_relations(mx_graph):\n",
    "    relations = []\n",
    "\n",
    "    for relation in mx_graph_tree.xpath('''//rel_concrete_root | \n",
    "                                           //rel_abstract_root | \n",
    "                                           //rel_concrete_abstract | \n",
    "                                           //rel_abstract_abstract |\n",
    "                                           //rel_concrete_concrete'''):\n",
    "\n",
    "        relation_dict = dict(relation.items())\n",
    "        relation_source_dict = dict(relation.find('.//mxCell').items())\n",
    "\n",
    "        relations.append({\n",
    "            'type': relation_dict['relType'],\n",
    "            'source': relation_source_dict['source'],\n",
    "            'target': relation_source_dict['target'],\n",
    "        })\n",
    "        \n",
    "    return relations\n",
    "\n",
    "relations = get_relations(mx_graph_tree)\n",
    "len(relations)"
   ]
  },
  {
   "cell_type": "code",
   "execution_count": 27,
   "metadata": {},
   "outputs": [
    {
     "data": {
      "text/plain": [
       "'1'"
      ]
     },
     "execution_count": 27,
     "metadata": {},
     "output_type": "execute_result"
    }
   ],
   "source": [
    "def get_root(features):\n",
    "    for key, feature in features.items():\n",
    "        if feature['type'] == 'root':\n",
    "            return key\n",
    "\n",
    "root_id = get_root(features)\n",
    "root_id"
   ]
  },
  {
   "cell_type": "code",
   "execution_count": 28,
   "metadata": {},
   "outputs": [],
   "source": [
    "build_rels_funcs = {\n",
    "    'root': lambda x: f'eq({x}, 1)',\n",
    "    'optional': lambda x, y: f'ge({x}, {y})',\n",
    "    'mandatory': lambda x, y: f'eq({x}, {y})',\n",
    "    'requires': lambda x, y: f'gt(add(sub(1, {x}), {y}), 0)',\n",
    "    'excludes': lambda x, y: f'gt(add(sub(1, {x}), sub(1, {y})), 0)',\n",
    "}\n",
    "\n",
    "xcsp = E.instance(\n",
    "    E.variables(\n",
    "        *[E.var(\" 0 1 \", id=f\"F{id}\", note=f\"{feature['label']}\") for (id, feature) in features.items()]\n",
    "    ),\n",
    "    E.constraints(\n",
    "        E.intension(\n",
    "            E.function(\n",
    "                build_rels_funcs['root'](f'F{root_id}')\n",
    "            )\n",
    "        ),\n",
    "        *[\n",
    "            E.intension(\n",
    "                E.function(\n",
    "                    build_rels_funcs[relation['type']](f\"F{relation['source']}\", f\"F{relation['target']}\")\n",
    "                )\n",
    "            ) for relation in relations\n",
    "        ]        \n",
    "    ),\n",
    "    format='XCSP3', \n",
    "    type='CSP',\n",
    ")"
   ]
  },
  {
   "cell_type": "code",
   "execution_count": 29,
   "metadata": {},
   "outputs": [
    {
     "name": "stdout",
     "output_type": "stream",
     "text": [
      "<instance format=\"XCSP3\" type=\"CSP\">\n",
      "  <variables>\n",
      "    <var id=\"F1\" note=\"ClothingStores\"> 0 1 </var>\n",
      "    <var id=\"F2\" note=\"Shipping\"> 0 1 </var>\n",
      "    <var id=\"F3\" note=\"Contact us\"> 0 1 </var>\n",
      "    <var id=\"F6\" note=\"Basic views\"> 0 1 </var>\n",
      "    <var id=\"F49\" note=\"Database management\"> 0 1 </var>\n",
      "    <var id=\"F60\" note=\"Demo data\"> 0 1 </var>\n",
      "    <var id=\"F72\" note=\"User model\"> 0 1 </var>\n",
      "    <var id=\"F75\" note=\"Account\"> 0 1 </var>\n",
      "    <var id=\"F77\" note=\"Login\"> 0 1 </var>\n",
      "    <var id=\"F113\" note=\"Cart\"> 0 1 </var>\n",
      "    <var id=\"F114\" note=\"Offline payment\"> 0 1 </var>\n",
      "    <var id=\"F115\" note=\"Online payment\"> 0 1 </var>\n",
      "    <var id=\"F141\" note=\"Rating\"> 0 1 </var>\n",
      "    <var id=\"F142\" note=\"Product model\"> 0 1 </var>\n",
      "    <var id=\"F143\" note=\"Comments\"> 0 1 </var>\n",
      "    <var id=\"F144\" note=\"List of products\"> 0 1 </var>\n",
      "    <var id=\"F145\" note=\"Sharing system\"> 0 1 </var>\n",
      "    <var id=\"F205\" note=\"Basic views\"> 0 1 </var>\n",
      "    <var id=\"F206\" note=\"Comment management\"> 0 1 </var>\n",
      "    <var id=\"F207\" note=\"Product management\"> 0 1 </var>\n",
      "    <var id=\"F208\" note=\"User management\"> 0 1 </var>\n",
      "    <var id=\"F251\" note=\"Shop\"> 0 1 </var>\n",
      "    <var id=\"F256\" note=\"Product\"> 0 1 </var>\n",
      "    <var id=\"F263\" note=\"Web management\"> 0 1 </var>\n",
      "    <var id=\"F270\" note=\"User\"> 0 1 </var>\n",
      "  </variables>\n",
      "  <constraints>\n",
      "    <intension>\n",
      "      <function>eq(F1, 1)</function>\n",
      "    </intension>\n",
      "    <intension>\n",
      "      <function>ge(F2, F1)</function>\n",
      "    </intension>\n",
      "    <intension>\n",
      "      <function>ge(F3, F1)</function>\n",
      "    </intension>\n",
      "    <intension>\n",
      "      <function>eq(F6, F1)</function>\n",
      "    </intension>\n",
      "    <intension>\n",
      "      <function>eq(F49, F1)</function>\n",
      "    </intension>\n",
      "    <intension>\n",
      "      <function>ge(F60, F1)</function>\n",
      "    </intension>\n",
      "    <intension>\n",
      "      <function>gt(add(sub(1, F75), F77), 0)</function>\n",
      "    </intension>\n",
      "    <intension>\n",
      "      <function>gt(add(sub(1, F208), F72), 0)</function>\n",
      "    </intension>\n",
      "    <intension>\n",
      "      <function>gt(add(sub(1, F206), F143), 0)</function>\n",
      "    </intension>\n",
      "    <intension>\n",
      "      <function>ge(F251, F1)</function>\n",
      "    </intension>\n",
      "    <intension>\n",
      "      <function>eq(F113, F251)</function>\n",
      "    </intension>\n",
      "    <intension>\n",
      "      <function>ge(F115, F251)</function>\n",
      "    </intension>\n",
      "    <intension>\n",
      "      <function>ge(F114, F251)</function>\n",
      "    </intension>\n",
      "    <intension>\n",
      "      <function>ge(F141, F256)</function>\n",
      "    </intension>\n",
      "    <intension>\n",
      "      <function>eq(F144, F256)</function>\n",
      "    </intension>\n",
      "    <intension>\n",
      "      <function>ge(F145, F256)</function>\n",
      "    </intension>\n",
      "    <intension>\n",
      "      <function>eq(F142, F256)</function>\n",
      "    </intension>\n",
      "    <intension>\n",
      "      <function>ge(F143, F256)</function>\n",
      "    </intension>\n",
      "    <intension>\n",
      "      <function>eq(F256, F1)</function>\n",
      "    </intension>\n",
      "    <intension>\n",
      "      <function>eq(F205, F263)</function>\n",
      "    </intension>\n",
      "    <intension>\n",
      "      <function>ge(F206, F263)</function>\n",
      "    </intension>\n",
      "    <intension>\n",
      "      <function>ge(F207, F263)</function>\n",
      "    </intension>\n",
      "    <intension>\n",
      "      <function>ge(F208, F263)</function>\n",
      "    </intension>\n",
      "    <intension>\n",
      "      <function>ge(F263, F1)</function>\n",
      "    </intension>\n",
      "    <intension>\n",
      "      <function>ge(F77, F270)</function>\n",
      "    </intension>\n",
      "    <intension>\n",
      "      <function>eq(F72, F270)</function>\n",
      "    </intension>\n",
      "    <intension>\n",
      "      <function>ge(F75, F270)</function>\n",
      "    </intension>\n",
      "    <intension>\n",
      "      <function>ge(F270, F1)</function>\n",
      "    </intension>\n",
      "  </constraints>\n",
      "</instance>\n",
      "\n"
     ]
    }
   ],
   "source": [
    "xcsp_str = str(etree.tostring(xcsp, pretty_print=True), \"UTF-8\")\n",
    "print(xcsp_str)"
   ]
  },
  {
   "cell_type": "code",
   "execution_count": 30,
   "metadata": {},
   "outputs": [],
   "source": [
    "with open(\"./Example Files/example_xcsp_3.xml\",\"w+\") as file:\n",
    "    file.write(xcsp_str)"
   ]
  },
  {
   "cell_type": "code",
   "execution_count": 31,
   "metadata": {},
   "outputs": [
    {
     "name": "stdout",
     "output_type": "stream",
     "text": [
      "c Concrete v3.11.1562239630117 running\n",
      "v <instantiation\n",
      "v         >\n",
      "v       <list>\n",
      "v         F1 F2 F3 F6 F49 F60 F72 F75 F77 F113 F114 F115 F141 F142 F143 F144 F145 F205 F206 F207 F208 F251 F256 F263 F270\n",
      "v       </list>\n",
      "v       <values>\n",
      "v         1 1 1 1 1 1 1 1 1 1 1 1 1 1 1 1 1 1 1 1 1 1 1 1 1\n",
      "v       </values>\n",
      "v     </instantiation>\n",
      "s OPTIMUM FOUND\n"
     ]
    }
   ],
   "source": [
    "%%bash\n",
    "\n",
    "./concrete-3.11/bin/xcsp-3-concrete -a ./Example\\ Files/example_xcsp_3.xml"
   ]
  },
  {
   "cell_type": "code",
   "execution_count": null,
   "metadata": {},
   "outputs": [],
   "source": []
  }
 ],
 "metadata": {
  "kernelspec": {
   "display_name": "Python 3",
   "language": "python",
   "name": "python3"
  },
  "language_info": {
   "codemirror_mode": {
    "name": "ipython",
    "version": 3
   },
   "file_extension": ".py",
   "mimetype": "text/x-python",
   "name": "python",
   "nbconvert_exporter": "python",
   "pygments_lexer": "ipython3",
   "version": "3.6.9"
  }
 },
 "nbformat": 4,
 "nbformat_minor": 2
}
