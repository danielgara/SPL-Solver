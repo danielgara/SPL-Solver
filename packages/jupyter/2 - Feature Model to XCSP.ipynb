{
 "cells": [
  {
   "cell_type": "markdown",
   "metadata": {},
   "source": [
    "![variamos_logo](./images/variamos_logo.png)\n",
    "\n",
    "# 2. Feature Model to XCSP\n",
    "\n",
    "`Preamble Here`"
   ]
  },
  {
   "cell_type": "markdown",
   "metadata": {},
   "source": [
    "## Table of Contents\n",
    "\n",
    "<a href='#z_logic_rep'>2.1. Propositional Logic Representation of Feature Models</a>  \n",
    "<a href='#num_rep'>2.2. Numeric Representation of Feature Models</a>  "
   ]
  },
  {
   "cell_type": "markdown",
   "metadata": {},
   "source": [
    "## 2.1. Propositional Logic Representation of Feature Models <a id='z_logic_rep'></a>\n",
    "\n",
    "`Text Here`\n",
    "\n",
    "| Relationship | Description |\n",
    "| --- | --- |\n",
    "| Mandatory | $a \\leftrightarrow b$ |\n",
    "| Optional | $a \\to b$ |\n",
    "| Requires | $ a\\to b$ |\n",
    "| Exclusion | $\\neg(a \\wedge b)$ |\n",
    "| Group cardinality | $???$ |  "
   ]
  },
  {
   "cell_type": "markdown",
   "metadata": {},
   "source": [
    "## 2.2. Numeric Representation of Feature Models <a id='num_rep'></a>  \n",
    "\n",
    "`Text Here`"
   ]
  },
  {
   "cell_type": "code",
   "execution_count": null,
   "metadata": {},
   "outputs": [],
   "source": []
  }
 ],
 "metadata": {
  "kernelspec": {
   "display_name": "Python 3",
   "language": "python",
   "name": "python3"
  },
  "language_info": {
   "codemirror_mode": {
    "name": "ipython",
    "version": 3
   },
   "file_extension": ".py",
   "mimetype": "text/x-python",
   "name": "python",
   "nbconvert_exporter": "python",
   "pygments_lexer": "ipython3",
   "version": "3.7.4"
  }
 },
 "nbformat": 4,
 "nbformat_minor": 4
}
