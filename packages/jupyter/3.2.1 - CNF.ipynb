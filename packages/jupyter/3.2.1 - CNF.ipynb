{
 "cells": [
  {
   "cell_type": "code",
   "execution_count": null,
   "metadata": {},
   "outputs": [],
   "source": [
    "%%capture\n",
    "\n",
    "% pip install python-sat"
   ]
  },
  {
   "cell_type": "code",
   "execution_count": 9,
   "metadata": {},
   "outputs": [],
   "source": [
    "%run \"3.1 - Serialización de modelos de características.ipynb\""
   ]
  },
  {
   "cell_type": "code",
   "execution_count": 10,
   "metadata": {},
   "outputs": [],
   "source": [
    "### 3.2.1 - Representación en CNF"
   ]
  },
  {
   "cell_type": "code",
   "execution_count": 34,
   "metadata": {},
   "outputs": [],
   "source": [
    "class CNF:\n",
    "    \n",
    "    def __init__(self):\n",
    "        self.num_variables = 0\n",
    "        self.num_clauses = 0\n",
    "        \n",
    "        self.comments = []\n",
    "        self.clauses = []\n",
    "        \n",
    "    def _get_max_var(self, clause):\n",
    "        return max([abs(var) for var in clause] + [self.num_variables])\n",
    "    \n",
    "    def add_comment(self, comment):\n",
    "        self.comments.append(comment)\n",
    "    \n",
    "    def append(self, clause):\n",
    "        self.num_variables = self._get_max_var(clause)\n",
    "        self.clauses.append(clause)\n",
    "        \n",
    "        self.num_clauses += 1\n",
    "    \n",
    "    def extend(self, clauses):\n",
    "        for clause in clauses:\n",
    "            self.append(clause)\n",
    "    \n",
    "    def __repr__(self):\n",
    "        cnf_lines = []\n",
    "\n",
    "        comments_str = [f\"c {comment}\" for comment in self.comments]\n",
    "        cnf_lines.extend(comments_str)\n",
    "        cnf_lines.append(\"c\")\n",
    "        \n",
    "        cnf_lines.append(f\"p cnf {self.num_variables} {self.num_clauses}\")\n",
    "        \n",
    "        for index, clause in enumerate(self.clauses):\n",
    "            clause_str = \" \".join([str(val) for val in clause])\n",
    "            cnf_lines.append(f\"{index + 1} {clause_str} 0\")\n",
    "            \n",
    "        return \"\\n\".join(cnf_lines)"
   ]
  },
  {
   "cell_type": "code",
   "execution_count": 35,
   "metadata": {},
   "outputs": [
    {
     "data": {
      "text/plain": [
       "c Francisco J. Piedrahíta-Vélez\n",
       "c Simple CNF formula\n",
       "c Example on how to use CNF formula class\n",
       "c\n",
       "p cnf 4 2\n",
       "1 1 2 0\n",
       "2 -3 4 0"
      ]
     },
     "execution_count": 35,
     "metadata": {},
     "output_type": "execute_result"
    }
   ],
   "source": [
    "formula = CNF()\n",
    "\n",
    "formula.add_comment(\"Francisco J. Piedrahíta-Vélez\")\n",
    "formula.add_comment(\"Simple CNF formula\")\n",
    "formula.add_comment(\"Example on how to use CNF formula class\")\n",
    "\n",
    "formula.append([1, 2])\n",
    "formula.append([-3, 4])\n",
    "\n",
    "formula"
   ]
  },
  {
   "cell_type": "code",
   "execution_count": 36,
   "metadata": {},
   "outputs": [],
   "source": [
    "### 3.2.2 - Representación en CNF de modelos de características"
   ]
  },
  {
   "cell_type": "code",
   "execution_count": 92,
   "metadata": {},
   "outputs": [
    {
     "data": {
      "text/plain": [
       "c Mobile Phone Feature Model\n",
       "c Paolo Vavassori\n",
       "c Example of a Feature Model\n",
       "c\n",
       "p cnf 9 10\n",
       "1 1 0\n",
       "2 -1 2 0\n",
       "3 1 -2 0\n",
       "4 -1 3 0\n",
       "5 -1 4 0\n",
       "6 1 -4 0\n",
       "7 -1 5 0\n",
       "8 -3 -6 0\n",
       "9 -6 -3 0\n",
       "10 -9 8 0"
      ]
     },
     "execution_count": 92,
     "metadata": {},
     "output_type": "execute_result"
    }
   ],
   "source": [
    "class FeatureModelCNF:\n",
    "    \n",
    "    def __init__(self, feature_model_json):\n",
    "        self.name = feature_model_json.get(\"name\")\n",
    "        self.author = feature_model_json.get(\"author\")\n",
    "        self.description = feature_model_json.get(\"description\")\n",
    "        \n",
    "        self.JSON = feature_model_json\n",
    "        self.CNF = CNF()\n",
    "        \n",
    "        comments = [self.name, self.author, self.description]\n",
    "        [self.CNF.add_comment(comment) for comment in comments if comment]\n",
    "            \n",
    "        self.CNF.extend(self._generate_feature_model_clauses(feature_model_json))\n",
    "        \n",
    "    def _generate_feature_model_clauses(self, feature_model_json):\n",
    "        clauses = []\n",
    "        \n",
    "        constraints_mapping = {\n",
    "            \"mandatory\": self._generate_mandatory_clause,\n",
    "            \"optional\": self._generate_optional_clause,\n",
    "            \"excludes\": self._generate_excludes_clause,\n",
    "            \"requires\": self._generate_requires_clause,\n",
    "            \"and\": self._generate_and_clause,\n",
    "            \"xor\": self._generate_xor_clause,\n",
    "            \"or\": self._generate_or_clause,\n",
    "            \"group_cardinality\": self._generate_group_cardinality_clause,\n",
    "        }\n",
    "        \n",
    "        for feature in feature_model_json.get(\"features\", []):\n",
    "            source = feature.get(\"id\")\n",
    "            \n",
    "            for constraint in feature.get(\"constraints\", []):\n",
    "                destination = constraint.get(\"destination\")\n",
    "                \n",
    "                if constraint.get(\"constraint_type\") == \"root\":\n",
    "                    clauses.extend(self._generate_root_clause(source))\n",
    "                else:\n",
    "                    clauses.extend(constraints_mapping[constraint.get(\"constraint_type\")](source, destination))\n",
    "                    \n",
    "        return clauses\n",
    "    \n",
    "    def _generate_root_clause(self, source):\n",
    "        return [[source]]\n",
    "\n",
    "    def _generate_mandatory_clause(self, source, destination):\n",
    "        return [[ -1 * source, destination], [source, -1 * destination]]\n",
    "\n",
    "    def _generate_optional_clause(self, source, destination):\n",
    "        return [[ -1 * source, destination]]\n",
    "\n",
    "    def _generate_excludes_clause(self, source, destination):\n",
    "        return [[ -1 * source, -1 * destination]]\n",
    "\n",
    "    def _generate_requires_clause(self, source, destination):\n",
    "        return [[ -1 * source, destination]]\n",
    "\n",
    "    def _generate_and_clause(self, source, destination):\n",
    "        # Not Implemented\n",
    "        return []\n",
    "\n",
    "    def _generate_or_clause(self, source, destination):\n",
    "        # Not Implemented\n",
    "        return []\n",
    "\n",
    "    def _generate_xor_clause(self, source, destination):\n",
    "        # Not Implemented\n",
    "        return []\n",
    "\n",
    "    def _generate_group_cardinality_clause(self, source, destination):\n",
    "        # Not Implemented\n",
    "        return []\n",
    "    \n",
    "    \n",
    "feature_model = FeatureModelCNF(phone_feature_model)\n",
    "\n",
    "feature_model.CNF"
   ]
  },
  {
   "cell_type": "code",
   "execution_count": 93,
   "metadata": {},
   "outputs": [],
   "source": [
    "### 3.2.3 - SAT Solvers"
   ]
  },
  {
   "cell_type": "code",
   "execution_count": 94,
   "metadata": {},
   "outputs": [],
   "source": [
    "from pysat.solvers import Cadical\n",
    "from pysat.solvers import Glucose3\n",
    "from pysat.solvers import Glucose4\n",
    "from pysat.solvers import Lingeling\n",
    "from pysat.solvers import MapleChrono\n",
    "from pysat.solvers import MapleCM\n",
    "from pysat.solvers import Maplesat\n",
    "from pysat.solvers import Minicard\n",
    "from pysat.solvers import Minisat22\n",
    "from pysat.solvers import MinisatGH"
   ]
  },
  {
   "cell_type": "code",
   "execution_count": 128,
   "metadata": {},
   "outputs": [
    {
     "data": {
      "text/plain": [
       "True"
      ]
     },
     "execution_count": 128,
     "metadata": {},
     "output_type": "execute_result"
    }
   ],
   "source": [
    "def is_empty_feture_model(feature_model, solver_class):\n",
    "    with solver_class(bootstrap_with=feature_model.CNF.clauses) as solver:\n",
    "        return solver.solve()\n",
    "  \n",
    "    \n",
    "is_valid_feture_model(feature_model, Cadical)"
   ]
  },
  {
   "cell_type": "code",
   "execution_count": 129,
   "metadata": {},
   "outputs": [
    {
     "data": {
      "text/plain": [
       "True"
      ]
     },
     "execution_count": 129,
     "metadata": {},
     "output_type": "execute_result"
    }
   ],
   "source": [
    "def is_real_product_line(feature_model, solver_class):\n",
    "    with solver_class(bootstrap_with=feature_model.CNF.clauses) as solver:\n",
    "        for index, solution in enumerate(solver.enum_models()):\n",
    "            if index >= 1:\n",
    "                return True\n",
    "\n",
    "    return False\n",
    "\n",
    "\n",
    "is_real_product_line(feature_model, Cadical)"
   ]
  },
  {
   "cell_type": "code",
   "execution_count": 130,
   "metadata": {},
   "outputs": [
    {
     "data": {
      "text/plain": [
       "[6]"
      ]
     },
     "execution_count": 130,
     "metadata": {},
     "output_type": "execute_result"
    }
   ],
   "source": [
    "def get_dead_features(feature_model, solver_class):\n",
    "    dead_features = []\n",
    "    \n",
    "    with solver_class(bootstrap_with=feature_model.CNF.clauses) as solver:\n",
    "        features = feature_model.JSON.get(\"features\")\n",
    "\n",
    "        for feature_id in range(1, feature_model.CNF.num_variables):\n",
    "            if not solver.solve(assumptions=[feature_id]):\n",
    "                dead_features.append(feature_id)\n",
    "\n",
    "    return dead_features\n",
    "\n",
    "\n",
    "get_dead_features(feature_model, Cadical)"
   ]
  },
  {
   "cell_type": "code",
   "execution_count": 120,
   "metadata": {},
   "outputs": [
    {
     "data": {
      "text/plain": [
       "[3, 5]"
      ]
     },
     "execution_count": 120,
     "metadata": {},
     "output_type": "execute_result"
    }
   ],
   "source": [
    "def get_fake_optionals(feature_model, solver_class):\n",
    "    fake_optionals = []\n",
    "    \n",
    "    with solver_class(bootstrap_with=feature_model.CNF.clauses) as solver:\n",
    "\n",
    "        for feature in feature_model.JSON.get(\"features\", []):\n",
    "            feature_id = feature.get(\"id\")\n",
    "            \n",
    "            for constraint in feature.get(\"constraints\", []):\n",
    "                constraint_id = constraint.get(\"destination\")\n",
    "\n",
    "                if constraint.get(\"constraint_type\") == \"optional\":\n",
    "                        if not solver.solve(assumptions=[-1 * feature_id]):\n",
    "                            fake_optionals.append(constraint_id)\n",
    "                                \n",
    "    return fake_optionals\n",
    "\n",
    "\n",
    "get_fake_optionals(feature_model, Cadical)"
   ]
  },
  {
   "cell_type": "code",
   "execution_count": null,
   "metadata": {},
   "outputs": [],
   "source": []
  }
 ],
 "metadata": {
  "kernelspec": {
   "display_name": "Python 3",
   "language": "python",
   "name": "python3"
  },
  "language_info": {
   "codemirror_mode": {
    "name": "ipython",
    "version": 3
   },
   "file_extension": ".py",
   "mimetype": "text/x-python",
   "name": "python",
   "nbconvert_exporter": "python",
   "pygments_lexer": "ipython3",
   "version": "3.7.6"
  }
 },
 "nbformat": 4,
 "nbformat_minor": 4
}
