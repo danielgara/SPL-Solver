{
 "cells": [
  {
   "cell_type": "markdown",
   "metadata": {},
   "source": [
    "<div>\n",
    "    <img src=\"./images/EAFIT_logo.png\" width=\"250\"/>\n",
    "</div>"
   ]
  },
  {
   "cell_type": "markdown",
   "metadata": {},
   "source": [
    "# Tabla de contenidos\n",
    "\n",
    "1. [Introducción](./1%20-%20Introducción.ipynb)  \n",
    "> 1.2. [Preguntas de la investigación](./1%20-%20Introducción.ipynb)\n",
    "2. [Marco teórico](./2%20-%20Marco%20teórico.ipynb)\n",
    "3. [Implentación](./3%20-%20Implementación.ipynb)  \n",
    "> 3.1. [Serialización](./3.1%20-%20Serialización.ipynb)  \n",
    "> 3.2. [Representación Formal](./3.2%20-%20Representación%20Formal.ipynb)  \n",
    ">> 3.2.1. [XCSP](./3.2.1%20-%20XCSP.ipynb)  \n",
    ">> 3.2.2. [CNF](./3.2.2%20-%20CNF.ipynb)  \n",
    ">> 3.2.3. [GNU Prolog](./3.2.3%20-%20GNU%20Prolog.ipynb)  \n",
    "4. [Resultados](./4%20-%20Resultados.ipynb)\n",
    "5. [Conclusiones](./5%20-%20Conclusiones.ipynb)\n",
    "6. [Referencias](./6%20-%20Referencias.ipynb)\n",
    "\n",
    "\n",
    "<!-- Reunion Con Raul Mazo\n",
    "\n",
    "La tasis debe contener los siguientes temas:\n",
    "    * Como resolver un mismo feature model con multiples solvers\n",
    "        * SAT\n",
    "        * SMT\n",
    "        * Restric\n",
    "        * Logico\n",
    "        * BDD\n",
    "        * ADD\n",
    "    * Como medir el performance de cada uno de los solvers y tecnicas\n",
    "    * Mejorar el diagnostico de los modelos de caracteristicas\n",
    "        * Diagnostico en tiempo de diseño\n",
    "        * Diagnostico en tiempo de configuración\n",
    "            * Minimal Correction Subsets\n",
    "            * Minimum unstisfiable subset\n",
    "            * Abdubtive logic diagnostics\n",
    "  -->"
   ]
  },
  {
   "cell_type": "markdown",
   "metadata": {},
   "source": [
    "# Resumen"
   ]
  },
  {
   "cell_type": "code",
   "execution_count": null,
   "metadata": {},
   "outputs": [],
   "source": []
  }
 ],
 "metadata": {
  "kernelspec": {
   "display_name": "Python 3",
   "language": "python",
   "name": "python3"
  },
  "language_info": {
   "codemirror_mode": {
    "name": "ipython",
    "version": 3
   },
   "file_extension": ".py",
   "mimetype": "text/x-python",
   "name": "python",
   "nbconvert_exporter": "python",
   "pygments_lexer": "ipython3",
   "version": "3.7.5"
  }
 },
 "nbformat": 4,
 "nbformat_minor": 4
}
