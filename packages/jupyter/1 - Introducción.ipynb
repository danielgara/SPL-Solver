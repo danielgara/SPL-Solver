{
 "cells": [
  {
   "cell_type": "markdown",
   "metadata": {},
   "source": [
    "# 1 - Introducción\n",
    "\n",
    "La noción de lineas de producto no es una nueva, compañías como Boing, Ford, Dell e incluso McDonalds las han utilizado y desarrollado para ofrecer productos relacionados, con eficiencia y escalabilidad. En contraste, las lineas de producto de software son un concepto relativamente nuevo. A pesar de su juventud ha adquirido fuerza rápidamente como un paradigma de desarrollo de software. Las lineas de producto de software han sido exitosas ya que permiten explotar las similitudes que existen entre productos para poder alcanzar economías de producción. \n",
    "<!-- [northrop_2002] -->\n",
    "\n",
    "El modelado de variabilidad es una técnica fundamental para la implementación de lineas de productos de software. La variabilidad describe las formas en las que un producto difiere de otros de la misma familia, en sintesis el objetivo de la variabilidad es responder a la siguiente pregunta, ¿Qué conjunto de componentes son una buena o una mala elección para un producto?. \n",
    "<!-- [bachmann_2002] [mendonca_2002] -->\n",
    "\n",
    "Los modelos de características son una técnica popular de modelado de variabilidad, son una representación de todos los posibles productos que pueden ser derivados de una linea de productos de software en términos de sus características. Estos modelos son utilizados a lo largo del desarrollo de una linea de producto de software, sirviendo como insumo para otros procesos y funcionan para la generación de arquitecturas, documentos e incluso código.\n",
    "<!-- [mkrttchian_2016, evseeva_2012] -->"
   ]
  },
  {
   "cell_type": "markdown",
   "metadata": {},
   "source": [
    "## 1.1 - Motivación\n",
    "\n",
    "El análisis automatizado de modelos de características ha sido un tema ampliamente estudiado y se ha tenido relativo éxito en esta tarea. La validación y configuración de modelos de características es un problema computacionalmente dificil, hace parte del conjunto NP-completo. En ciertos casos una herramienta para analizar estos modelos puede tomarse un tiempo tan largo que hace imposible la validación del modelo y sus configuraciones.\n",
    "<!-- [mendonca_2002] -->\n",
    "\n",
    "Se ha mostrado en investigaciones como identificar configuraciones fallidas, pero los mecanismos tradicionales de diagnostico de modelos de características no tienen la capacidad de encontrar acciones correctivas, en términos de su configuración. Es importante que los diagnósticos para el diseño y configuración sean más explícitos en las acciones correctivas necesarias para hacer que el modelo o la configuración sean válidos. \n",
    "<!-- [white_2010] -->\n",
    "\n",
    "Es importante para la adopción de lineas de producto de software que el modelado de variabilidad no se vuelva un obstáculo. Es por esto que esta tesis se enfoca en la evaluación de herramientas para el análisis de modelos de características y alternativas teóricas para mejorar el diagnostico de dichos modelos."
   ]
  },
  {
   "cell_type": "code",
   "execution_count": 5,
   "metadata": {},
   "outputs": [],
   "source": [
    "## 1.2 - Preguntas de la investigación"
   ]
  },
  {
   "cell_type": "code",
   "execution_count": 3,
   "metadata": {},
   "outputs": [],
   "source": [
    "## 1.3 - Aportes de la investigación"
   ]
  },
  {
   "cell_type": "code",
   "execution_count": 4,
   "metadata": {},
   "outputs": [],
   "source": [
    "## 1.4 - Estructura de la tesis"
   ]
  }
 ],
 "metadata": {
  "kernelspec": {
   "display_name": "Python 3",
   "language": "python",
   "name": "python3"
  },
  "language_info": {
   "codemirror_mode": {
    "name": "ipython",
    "version": 3
   },
   "file_extension": ".py",
   "mimetype": "text/x-python",
   "name": "python",
   "nbconvert_exporter": "python",
   "pygments_lexer": "ipython3",
   "version": "3.7.5"
  }
 },
 "nbformat": 4,
 "nbformat_minor": 4
}
